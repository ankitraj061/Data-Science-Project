{
 "cells": [
  {
   "cell_type": "code",
   "execution_count": 1,
   "id": "845eff54",
   "metadata": {},
   "outputs": [],
   "source": [
    "import pandas as pd"
   ]
  },
  {
   "cell_type": "code",
   "execution_count": 3,
   "id": "c566b3f4",
   "metadata": {},
   "outputs": [],
   "source": [
    "df=pd.read_csv(\"Olympics.csv\")"
   ]
  },
  {
   "cell_type": "code",
   "execution_count": 14,
   "id": "a9566582",
   "metadata": {},
   "outputs": [
    {
     "name": "stdout",
     "output_type": "stream",
     "text": [
      "                         name   medal\n",
      "3        Edgar Lindenau Aabye    Gold\n",
      "37       Arvo Ossian Aaltonen  Bronze\n",
      "38       Arvo Ossian Aaltonen  Bronze\n",
      "40   Juhamatti Tapio Aaltonen  Bronze\n",
      "41    Paavo Johannes Aaltonen  Bronze\n",
      "42    Paavo Johannes Aaltonen    Gold\n",
      "44    Paavo Johannes Aaltonen    Gold\n",
      "48    Paavo Johannes Aaltonen    Gold\n",
      "50    Paavo Johannes Aaltonen  Bronze\n",
      "60         Kjetil Andr Aamodt    Gold\n",
      "61         Kjetil Andr Aamodt  Bronze\n",
      "63         Kjetil Andr Aamodt  Silver\n",
      "64         Kjetil Andr Aamodt  Bronze\n",
      "67         Kjetil Andr Aamodt  Silver\n",
      "73         Kjetil Andr Aamodt    Gold\n",
      "76         Kjetil Andr Aamodt    Gold\n",
      "78         Kjetil Andr Aamodt    Gold\n",
      "79  Ragnhild Margrethe Aamodt    Gold\n",
      "86           Alf Lied Aanning  Silver\n",
      "91       Willemien Aardenburg  Bronze\n",
      "92           Pepijn Aardewijn  Silver\n"
     ]
    }
   ],
   "source": [
    "athlete_medals = df[['name', 'medal']].dropna()\n",
    "print(athlete_medals)"
   ]
  },
  {
   "cell_type": "code",
   "execution_count": 4,
   "id": "b4a27254",
   "metadata": {},
   "outputs": [
    {
     "data": {
      "text/html": [
       "<div>\n",
       "<style scoped>\n",
       "    .dataframe tbody tr th:only-of-type {\n",
       "        vertical-align: middle;\n",
       "    }\n",
       "\n",
       "    .dataframe tbody tr th {\n",
       "        vertical-align: top;\n",
       "    }\n",
       "\n",
       "    .dataframe thead th {\n",
       "        text-align: right;\n",
       "    }\n",
       "</style>\n",
       "<table border=\"1\" class=\"dataframe\">\n",
       "  <thead>\n",
       "    <tr style=\"text-align: right;\">\n",
       "      <th></th>\n",
       "      <th>id</th>\n",
       "      <th>name</th>\n",
       "      <th>sex</th>\n",
       "      <th>age</th>\n",
       "      <th>height</th>\n",
       "      <th>weight</th>\n",
       "      <th>team</th>\n",
       "      <th>noc</th>\n",
       "      <th>games</th>\n",
       "      <th>year</th>\n",
       "      <th>season</th>\n",
       "      <th>city</th>\n",
       "      <th>sport</th>\n",
       "      <th>event</th>\n",
       "      <th>medal</th>\n",
       "    </tr>\n",
       "  </thead>\n",
       "  <tbody>\n",
       "    <tr>\n",
       "      <th>0</th>\n",
       "      <td>1</td>\n",
       "      <td>A Dijiang</td>\n",
       "      <td>M</td>\n",
       "      <td>24</td>\n",
       "      <td>180.0</td>\n",
       "      <td>80.0</td>\n",
       "      <td>China</td>\n",
       "      <td>CHN</td>\n",
       "      <td>1992 Summer</td>\n",
       "      <td>1992</td>\n",
       "      <td>Summer</td>\n",
       "      <td>Barcelona</td>\n",
       "      <td>Basketball</td>\n",
       "      <td>Basketball Men's Basketball</td>\n",
       "      <td>NaN</td>\n",
       "    </tr>\n",
       "    <tr>\n",
       "      <th>1</th>\n",
       "      <td>2</td>\n",
       "      <td>A Lamusi</td>\n",
       "      <td>M</td>\n",
       "      <td>23</td>\n",
       "      <td>170.0</td>\n",
       "      <td>60.0</td>\n",
       "      <td>China</td>\n",
       "      <td>CHN</td>\n",
       "      <td>2012 Summer</td>\n",
       "      <td>2012</td>\n",
       "      <td>Summer</td>\n",
       "      <td>London</td>\n",
       "      <td>Judo</td>\n",
       "      <td>Judo Men's Extra-Lightweight</td>\n",
       "      <td>NaN</td>\n",
       "    </tr>\n",
       "    <tr>\n",
       "      <th>2</th>\n",
       "      <td>3</td>\n",
       "      <td>Gunnar Nielsen Aaby</td>\n",
       "      <td>M</td>\n",
       "      <td>24</td>\n",
       "      <td>NaN</td>\n",
       "      <td>NaN</td>\n",
       "      <td>Denmark</td>\n",
       "      <td>DEN</td>\n",
       "      <td>1920 Summer</td>\n",
       "      <td>1920</td>\n",
       "      <td>Summer</td>\n",
       "      <td>Antwerpen</td>\n",
       "      <td>Football</td>\n",
       "      <td>Football Men's Football</td>\n",
       "      <td>NaN</td>\n",
       "    </tr>\n",
       "    <tr>\n",
       "      <th>3</th>\n",
       "      <td>4</td>\n",
       "      <td>Edgar Lindenau Aabye</td>\n",
       "      <td>M</td>\n",
       "      <td>34</td>\n",
       "      <td>NaN</td>\n",
       "      <td>NaN</td>\n",
       "      <td>Denmark/Sweden</td>\n",
       "      <td>DEN</td>\n",
       "      <td>1900 Summer</td>\n",
       "      <td>1900</td>\n",
       "      <td>Summer</td>\n",
       "      <td>Paris</td>\n",
       "      <td>Tug-Of-War</td>\n",
       "      <td>Tug-Of-War Men's Tug-Of-War</td>\n",
       "      <td>Gold</td>\n",
       "    </tr>\n",
       "    <tr>\n",
       "      <th>4</th>\n",
       "      <td>5</td>\n",
       "      <td>Christine Jacoba Aaftink</td>\n",
       "      <td>F</td>\n",
       "      <td>21</td>\n",
       "      <td>185.0</td>\n",
       "      <td>82.0</td>\n",
       "      <td>Netherlands</td>\n",
       "      <td>NED</td>\n",
       "      <td>1988 Winter</td>\n",
       "      <td>1988</td>\n",
       "      <td>Winter</td>\n",
       "      <td>Calgary</td>\n",
       "      <td>Speed Skating</td>\n",
       "      <td>Speed Skating Women's 500 metres</td>\n",
       "      <td>NaN</td>\n",
       "    </tr>\n",
       "    <tr>\n",
       "      <th>...</th>\n",
       "      <td>...</td>\n",
       "      <td>...</td>\n",
       "      <td>...</td>\n",
       "      <td>...</td>\n",
       "      <td>...</td>\n",
       "      <td>...</td>\n",
       "      <td>...</td>\n",
       "      <td>...</td>\n",
       "      <td>...</td>\n",
       "      <td>...</td>\n",
       "      <td>...</td>\n",
       "      <td>...</td>\n",
       "      <td>...</td>\n",
       "      <td>...</td>\n",
       "      <td>...</td>\n",
       "    </tr>\n",
       "    <tr>\n",
       "      <th>95</th>\n",
       "      <td>32</td>\n",
       "      <td>Olav Augunson Aarnes</td>\n",
       "      <td>M</td>\n",
       "      <td>23</td>\n",
       "      <td>NaN</td>\n",
       "      <td>NaN</td>\n",
       "      <td>Norway</td>\n",
       "      <td>NOR</td>\n",
       "      <td>1912 Summer</td>\n",
       "      <td>1912</td>\n",
       "      <td>Summer</td>\n",
       "      <td>Stockholm</td>\n",
       "      <td>Athletics</td>\n",
       "      <td>Athletics Men's High Jump</td>\n",
       "      <td>NaN</td>\n",
       "    </tr>\n",
       "    <tr>\n",
       "      <th>96</th>\n",
       "      <td>33</td>\n",
       "      <td>Mika Lauri Aarnikka</td>\n",
       "      <td>M</td>\n",
       "      <td>24</td>\n",
       "      <td>187.0</td>\n",
       "      <td>76.0</td>\n",
       "      <td>Finland</td>\n",
       "      <td>FIN</td>\n",
       "      <td>1992 Summer</td>\n",
       "      <td>1992</td>\n",
       "      <td>Summer</td>\n",
       "      <td>Barcelona</td>\n",
       "      <td>Sailing</td>\n",
       "      <td>Sailing Men's Two Person Dinghy</td>\n",
       "      <td>NaN</td>\n",
       "    </tr>\n",
       "    <tr>\n",
       "      <th>97</th>\n",
       "      <td>33</td>\n",
       "      <td>Mika Lauri Aarnikka</td>\n",
       "      <td>M</td>\n",
       "      <td>28</td>\n",
       "      <td>187.0</td>\n",
       "      <td>76.0</td>\n",
       "      <td>Finland</td>\n",
       "      <td>FIN</td>\n",
       "      <td>1996 Summer</td>\n",
       "      <td>1996</td>\n",
       "      <td>Summer</td>\n",
       "      <td>Atlanta</td>\n",
       "      <td>Sailing</td>\n",
       "      <td>Sailing Men's Two Person Dinghy</td>\n",
       "      <td>NaN</td>\n",
       "    </tr>\n",
       "    <tr>\n",
       "      <th>98</th>\n",
       "      <td>34</td>\n",
       "      <td>Jamale (Djamel-) Aarrass (Ahrass-)</td>\n",
       "      <td>M</td>\n",
       "      <td>30</td>\n",
       "      <td>187.0</td>\n",
       "      <td>76.0</td>\n",
       "      <td>France</td>\n",
       "      <td>FRA</td>\n",
       "      <td>2012 Summer</td>\n",
       "      <td>2012</td>\n",
       "      <td>Summer</td>\n",
       "      <td>London</td>\n",
       "      <td>Athletics</td>\n",
       "      <td>\"Athletics Men's 1,500 metres\"</td>\n",
       "      <td>NaN</td>\n",
       "    </tr>\n",
       "    <tr>\n",
       "      <th>99</th>\n",
       "      <td>35</td>\n",
       "      <td>Dagfinn Sverre Aarskog</td>\n",
       "      <td>M</td>\n",
       "      <td>24</td>\n",
       "      <td>190.0</td>\n",
       "      <td>98.0</td>\n",
       "      <td>Norway</td>\n",
       "      <td>NOR</td>\n",
       "      <td>1998 Winter</td>\n",
       "      <td>1998</td>\n",
       "      <td>Winter</td>\n",
       "      <td>Nagano</td>\n",
       "      <td>Bobsleigh</td>\n",
       "      <td>Bobsleigh Men's Four</td>\n",
       "      <td>NaN</td>\n",
       "    </tr>\n",
       "  </tbody>\n",
       "</table>\n",
       "<p>100 rows × 15 columns</p>\n",
       "</div>"
      ],
      "text/plain": [
       "    id                                name sex  age  height  weight  \\\n",
       "0    1                           A Dijiang   M   24   180.0    80.0   \n",
       "1    2                            A Lamusi   M   23   170.0    60.0   \n",
       "2    3                 Gunnar Nielsen Aaby   M   24     NaN     NaN   \n",
       "3    4                Edgar Lindenau Aabye   M   34     NaN     NaN   \n",
       "4    5            Christine Jacoba Aaftink   F   21   185.0    82.0   \n",
       "..  ..                                 ...  ..  ...     ...     ...   \n",
       "95  32                Olav Augunson Aarnes   M   23     NaN     NaN   \n",
       "96  33                 Mika Lauri Aarnikka   M   24   187.0    76.0   \n",
       "97  33                 Mika Lauri Aarnikka   M   28   187.0    76.0   \n",
       "98  34  Jamale (Djamel-) Aarrass (Ahrass-)   M   30   187.0    76.0   \n",
       "99  35              Dagfinn Sverre Aarskog   M   24   190.0    98.0   \n",
       "\n",
       "              team  noc        games  year  season       city          sport  \\\n",
       "0            China  CHN  1992 Summer  1992  Summer  Barcelona     Basketball   \n",
       "1            China  CHN  2012 Summer  2012  Summer     London           Judo   \n",
       "2          Denmark  DEN  1920 Summer  1920  Summer  Antwerpen       Football   \n",
       "3   Denmark/Sweden  DEN  1900 Summer  1900  Summer      Paris     Tug-Of-War   \n",
       "4      Netherlands  NED  1988 Winter  1988  Winter    Calgary  Speed Skating   \n",
       "..             ...  ...          ...   ...     ...        ...            ...   \n",
       "95          Norway  NOR  1912 Summer  1912  Summer  Stockholm      Athletics   \n",
       "96         Finland  FIN  1992 Summer  1992  Summer  Barcelona        Sailing   \n",
       "97         Finland  FIN  1996 Summer  1996  Summer    Atlanta        Sailing   \n",
       "98          France  FRA  2012 Summer  2012  Summer     London      Athletics   \n",
       "99          Norway  NOR  1998 Winter  1998  Winter     Nagano      Bobsleigh   \n",
       "\n",
       "                               event medal  \n",
       "0        Basketball Men's Basketball   NaN  \n",
       "1       Judo Men's Extra-Lightweight   NaN  \n",
       "2            Football Men's Football   NaN  \n",
       "3        Tug-Of-War Men's Tug-Of-War  Gold  \n",
       "4   Speed Skating Women's 500 metres   NaN  \n",
       "..                               ...   ...  \n",
       "95         Athletics Men's High Jump   NaN  \n",
       "96   Sailing Men's Two Person Dinghy   NaN  \n",
       "97   Sailing Men's Two Person Dinghy   NaN  \n",
       "98    \"Athletics Men's 1,500 metres\"   NaN  \n",
       "99              Bobsleigh Men's Four   NaN  \n",
       "\n",
       "[100 rows x 15 columns]"
      ]
     },
     "execution_count": 4,
     "metadata": {},
     "output_type": "execute_result"
    }
   ],
   "source": [
    "df"
   ]
  },
  {
   "cell_type": "code",
   "execution_count": 15,
   "id": "7af33048",
   "metadata": {},
   "outputs": [
    {
     "name": "stdout",
     "output_type": "stream",
     "text": [
      "35\n"
     ]
    }
   ],
   "source": [
    "total_athletes = df['name'].nunique()\n",
    "print(total_athletes)"
   ]
  },
  {
   "cell_type": "code",
   "execution_count": 16,
   "id": "51d5072f",
   "metadata": {},
   "outputs": [
    {
     "name": "stdout",
     "output_type": "stream",
     "text": [
      "    id                       name sex  age  height  weight            team  \\\n",
      "3    4       Edgar Lindenau Aabye   M   34     NaN     NaN  Denmark/Sweden   \n",
      "42  17    Paavo Johannes Aaltonen   M   28   175.0    64.0         Finland   \n",
      "44  17    Paavo Johannes Aaltonen   M   28   175.0    64.0         Finland   \n",
      "48  17    Paavo Johannes Aaltonen   M   28   175.0    64.0         Finland   \n",
      "60  20         Kjetil Andr Aamodt   M   20   176.0    85.0          Norway   \n",
      "73  20         Kjetil Andr Aamodt   M   30   176.0    85.0          Norway   \n",
      "76  20         Kjetil Andr Aamodt   M   30   176.0    85.0          Norway   \n",
      "78  20         Kjetil Andr Aamodt   M   34   176.0    85.0          Norway   \n",
      "79  21  Ragnhild Margrethe Aamodt   F   27   163.0     NaN          Norway   \n",
      "\n",
      "    noc        games  year  season            city          sport  \\\n",
      "3   DEN  1900 Summer  1900  Summer           Paris     Tug-Of-War   \n",
      "42  FIN  1948 Summer  1948  Summer          London     Gymnastics   \n",
      "44  FIN  1948 Summer  1948  Summer          London     Gymnastics   \n",
      "48  FIN  1948 Summer  1948  Summer          London     Gymnastics   \n",
      "60  NOR  1992 Winter  1992  Winter     Albertville  Alpine Skiing   \n",
      "73  NOR  2002 Winter  2002  Winter  Salt Lake City  Alpine Skiing   \n",
      "76  NOR  2002 Winter  2002  Winter  Salt Lake City  Alpine Skiing   \n",
      "78  NOR  2006 Winter  2006  Winter          Torino  Alpine Skiing   \n",
      "79  NOR  2008 Summer  2008  Summer         Beijing       Handball   \n",
      "\n",
      "                               event medal  \n",
      "3        Tug-Of-War Men's Tug-Of-War  Gold  \n",
      "42  Gymnastics Men's Team All-Around  Gold  \n",
      "44      Gymnastics Men's Horse Vault  Gold  \n",
      "48  Gymnastics Men's Pommelled Horse  Gold  \n",
      "60       Alpine Skiing Men's Super G  Gold  \n",
      "73       Alpine Skiing Men's Super G  Gold  \n",
      "76      Alpine Skiing Men's Combined  Gold  \n",
      "78       Alpine Skiing Men's Super G  Gold  \n",
      "79         Handball Women's Handball  Gold  \n"
     ]
    }
   ],
   "source": [
    "gold_medal_athletes = df[df['medal'] == 'Gold']\n",
    "print(gold_medal_athletes)"
   ]
  },
  {
   "cell_type": "code",
   "execution_count": 17,
   "id": "201d2ba1",
   "metadata": {},
   "outputs": [
    {
     "name": "stdout",
     "output_type": "stream",
     "text": [
      "                  name   medal  year\n",
      "86    Alf Lied Aanning  Silver  1920\n",
      "63  Kjetil Andr Aamodt  Silver  1994\n",
      "67  Kjetil Andr Aamodt  Silver  1994\n",
      "92    Pepijn Aardewijn  Silver  1996\n"
     ]
    }
   ],
   "source": [
    "silver_medal_athletes = df[df['medal'] == 'Silver']\n",
    "silver_medal_athletes_sorted = silver_medal_athletes.sort_values(by='year')\n",
    "\n",
    "print(silver_medal_athletes_sorted[['name', 'medal', 'year']])"
   ]
  },
  {
   "cell_type": "code",
   "execution_count": 21,
   "id": "9234b615",
   "metadata": {},
   "outputs": [
    {
     "name": "stdout",
     "output_type": "stream",
     "text": [
      "medal           Bronze  Gold  Silver\n",
      "team                                \n",
      "Denmark/Sweden       0     1       0\n",
      "Finland              5     3       0\n",
      "Netherlands          1     0       1\n",
      "Norway               2     5       3\n"
     ]
    }
   ],
   "source": [
    "medal_counts = df.groupby(['team', 'medal']).size().reset_index(name='Count')\n",
    "\n",
    "medal_counts_pivot = medal_counts.pivot_table(index='team', columns='medal', values='Count', fill_value=0)\n",
    "\n",
    "print(medal_counts_pivot)"
   ]
  },
  {
   "cell_type": "code",
   "execution_count": 22,
   "id": "f247a5bc",
   "metadata": {},
   "outputs": [
    {
     "name": "stdout",
     "output_type": "stream",
     "text": [
      "Empty DataFrame\n",
      "Columns: [team, GoldCount]\n",
      "Index: []\n"
     ]
    }
   ],
   "source": [
    "gold_counts = df[df['medal'] == 'Gold'].groupby('team').size().reset_index(name='GoldCount')\n",
    "\n",
    "countries_with_50plus_gold = gold_counts[gold_counts['GoldCount'] > 50]\n",
    "\n",
    "print(countries_with_50plus_gold)"
   ]
  },
  {
   "cell_type": "code",
   "execution_count": 23,
   "id": "e38ca5e1",
   "metadata": {},
   "outputs": [
    {
     "name": "stdout",
     "output_type": "stream",
     "text": [
      "name           Kjetil Andr Aamodt\n",
      "TotalMedals                     8\n",
      "Name: 22, dtype: object\n"
     ]
    }
   ],
   "source": [
    "athlete_medal_counts = df.groupby('name')['medal'].count().reset_index(name='TotalMedals')\n",
    "most_medals_athlete = athlete_medal_counts.loc[athlete_medal_counts['TotalMedals'].idxmax()]\n",
    "print(most_medals_athlete)"
   ]
  },
  {
   "cell_type": "code",
   "execution_count": 25,
   "id": "5526897b",
   "metadata": {},
   "outputs": [
    {
     "name": "stdout",
     "output_type": "stream",
     "text": [
      "                                  event\n",
      "29  Swimming Men's 400 metres Freestyle\n"
     ]
    }
   ],
   "source": [
    "freestyle_events = df[df['event'].str.contains('Freestyle')]\n",
    "\n",
    "print(freestyle_events[['event']])"
   ]
  },
  {
   "cell_type": "code",
   "execution_count": 33,
   "id": "04822dfe",
   "metadata": {},
   "outputs": [
    {
     "name": "stdout",
     "output_type": "stream",
     "text": [
      "                   sport                                  name  TotalMedals\n",
      "0          Alpine Skiing                    Kjetil Andr Aamodt            8\n",
      "1       Art Competitions                 Win Valdemar Aaltonen            0\n",
      "2              Athletics  Cornelia \\Cor\\\" Aalten (-Strannood)\"            0\n",
      "3              Athletics                     Evald rma (rman-)            0\n",
      "4              Athletics    Jamale (Djamel-) Aarrass (Ahrass-)            0\n",
      "7              Badminton                     Jyri Tapani Aalto            0\n",
      "8             Basketball                             A Dijiang            0\n",
      "9               Biathlon        Pirjo Hannele Aalto (Mattila-)            0\n",
      "10             Bobsleigh                Dagfinn Sverre Aarskog            0\n",
      "11  Cross Country Skiing                          John Aalberg            0\n",
      "12  Cross Country Skiing                    Jorma Ilmari Aalto            0\n",
      "13  Cross Country Skiing                       Per Knut Aaland            0\n",
      "14              Football                   Gunnar Nielsen Aaby            0\n",
      "15            Gymnastics                      Alf Lied Aanning            1\n",
      "16            Gymnastics               Paavo Johannes Aaltonen            5\n",
      "17              Handball             Ragnhild Margrethe Aamodt            1\n",
      "18                Hockey                  Willemien Aardenburg            1\n",
      "19            Ice Hockey                      Antti Sami Aalto            0\n",
      "20            Ice Hockey              Juhamatti Tapio Aaltonen            1\n",
      "21                  Judo                              A Lamusi            0\n",
      "22                  Luge          Agnes Erika Aanonsen (-Eyde)            0\n",
      "23                Rowing                      Pepijn Aardewijn            1\n",
      "24               Sailing                      Jan-Erik Aarberg            0\n",
      "25               Sailing                   Mika Lauri Aarnikka            0\n",
      "26               Sailing                    Minna Maarit Aalto            0\n",
      "27         Speed Skating              Christine Jacoba Aaftink            0\n",
      "28         Speed Skating                      Nils Egil Aaness            0\n",
      "30              Swimming      Einar Ferdinand \\Einari\\\" Aalto\"            0\n",
      "29              Swimming                  Arvo Ossian Aaltonen            2\n",
      "31            Tug-Of-War                  Edgar Lindenau Aabye            1\n",
      "32            Water Polo                         Johan Aantjes            0\n",
      "33         Weightlifting                         Andreea Aanei            0\n",
      "34             Wrestling                           Fritz Aanes            0\n"
     ]
    }
   ],
   "source": [
    "athlete_sport_medal_counts = df.groupby(['sport', 'name'])['medal'].count().reset_index(name='TotalMedals')\n",
    "\n",
    "athlete_sport_medal_counts_sorted = athlete_sport_medal_counts.sort_values(by=['sport', 'TotalMedals'], ascending=[True,False])\n",
    "top_3_athletes_by_sport = athlete_sport_medal_counts_sorted.groupby('sport').head(3)\n",
    "\n",
    "print(top_3_athletes_by_sport[['sport', 'name', 'TotalMedals']])"
   ]
  },
  {
   "cell_type": "code",
   "execution_count": 35,
   "id": "dca091b2",
   "metadata": {},
   "outputs": [
    {
     "name": "stdout",
     "output_type": "stream",
     "text": [
      "                       name  year   medal\n",
      "41  Paavo Johannes Aaltonen  1948  Bronze\n",
      "42  Paavo Johannes Aaltonen  1948    Gold\n",
      "44  Paavo Johannes Aaltonen  1948    Gold\n",
      "48  Paavo Johannes Aaltonen  1948    Gold\n",
      "50  Paavo Johannes Aaltonen  1952  Bronze\n",
      "60       Kjetil Andr Aamodt  1992    Gold\n",
      "61       Kjetil Andr Aamodt  1992  Bronze\n",
      "63       Kjetil Andr Aamodt  1994  Silver\n",
      "64       Kjetil Andr Aamodt  1994  Bronze\n",
      "67       Kjetil Andr Aamodt  1994  Silver\n",
      "73       Kjetil Andr Aamodt  2002    Gold\n",
      "76       Kjetil Andr Aamodt  2002    Gold\n",
      "78       Kjetil Andr Aamodt  2006    Gold\n"
     ]
    }
   ],
   "source": [
    "athletes_multiple_medals = df.groupby(['name', 'year']).filter(lambda x: len(x) > 1).dropna()\n",
    "\n",
    "print(athletes_multiple_medals[['name', 'year', 'medal']])"
   ]
  },
  {
   "cell_type": "code",
   "execution_count": 36,
   "id": "f0f1c78e",
   "metadata": {},
   "outputs": [
    {
     "name": "stdout",
     "output_type": "stream",
     "text": [
      "['Norway']\n"
     ]
    }
   ],
   "source": [
    "gold_medals = df[df['medal'] == 'Gold']\n",
    "\n",
    "gold_medals_pivot = gold_medals.pivot_table(index='team', columns='season', values='medal', aggfunc='count', fill_value=0)\n",
    "\n",
    "countries_both_seasons = gold_medals_pivot[(gold_medals_pivot['Summer'] > 0) & (gold_medals_pivot['Winter'] > 0)].index.tolist()\n",
    "\n",
    "print(countries_both_seasons)"
   ]
  },
  {
   "cell_type": "code",
   "execution_count": 37,
   "id": "d9a7bcac",
   "metadata": {},
   "outputs": [
    {
     "name": "stdout",
     "output_type": "stream",
     "text": [
      "             team  AvgMedalsPerAthlete\n",
      "0  Denmark/Sweden             1.000000\n",
      "1         Finland             2.666667\n",
      "2     Netherlands             1.000000\n",
      "3          Norway             3.333333\n"
     ]
    }
   ],
   "source": [
    "countries_with_medals = df.dropna(subset=['medal'])\n",
    "\n",
    "medals_per_athlete = countries_with_medals.groupby(['team', 'name']).size().reset_index(name='MedalCount')\n",
    "\n",
    "avg_medals_per_athlete = medals_per_athlete.groupby('team')['MedalCount'].mean().reset_index(name='AvgMedalsPerAthlete')\n",
    "\n",
    "print(avg_medals_per_athlete)"
   ]
  },
  {
   "cell_type": "code",
   "execution_count": 39,
   "id": "1a4c00ec",
   "metadata": {},
   "outputs": [
    {
     "name": "stdout",
     "output_type": "stream",
     "text": [
      "Empty DataFrame\n",
      "Columns: [team, NumSportsWithMedals]\n",
      "Index: []\n"
     ]
    }
   ],
   "source": [
    "countries_with_medals = df.dropna(subset=['medal'])\n",
    "\n",
    "sports_per_country = countries_with_medals.groupby('team')['sport'].nunique().reset_index(name='NumSportsWithMedals')\n",
    "\n",
    "countries_more_than_10_sports = sports_per_country[sports_per_country['NumSportsWithMedals'] > 10]\n",
    "\n",
    "print(countries_more_than_10_sports[['team', 'NumSportsWithMedals']])"
   ]
  },
  {
   "cell_type": "code",
   "execution_count": null,
   "id": "387347d8",
   "metadata": {},
   "outputs": [],
   "source": []
  }
 ],
 "metadata": {
  "kernelspec": {
   "display_name": "Python 3 (ipykernel)",
   "language": "python",
   "name": "python3"
  },
  "language_info": {
   "codemirror_mode": {
    "name": "ipython",
    "version": 3
   },
   "file_extension": ".py",
   "mimetype": "text/x-python",
   "name": "python",
   "nbconvert_exporter": "python",
   "pygments_lexer": "ipython3",
   "version": "3.11.5"
  }
 },
 "nbformat": 4,
 "nbformat_minor": 5
}
